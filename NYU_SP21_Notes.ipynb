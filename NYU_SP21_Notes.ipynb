{
  "nbformat": 4,
  "nbformat_minor": 0,
  "metadata": {
    "colab": {
      "name": "NYU-SP21-Notes.ipynb",
      "provenance": [],
      "collapsed_sections": [],
      "authorship_tag": "ABX9TyNBh0Papa4PK/5yvWdEIXai",
      "include_colab_link": true
    },
    "kernelspec": {
      "name": "python3",
      "display_name": "Python 3"
    },
    "language_info": {
      "name": "python"
    }
  },
  "cells": [
    {
      "cell_type": "markdown",
      "metadata": {
        "id": "view-in-github",
        "colab_type": "text"
      },
      "source": [
        "<a href=\"https://colab.research.google.com/github/RoyEHamlin/NYU-DL-SP20/blob/main/NYU_SP21_Notes.ipynb\" target=\"_parent\"><img src=\"https://colab.research.google.com/assets/colab-badge.svg\" alt=\"Open In Colab\"/></a>"
      ]
    },
    {
      "cell_type": "markdown",
      "source": [
        "# Pytorch Deep Learning\n",
        "* General Page (2021 most current, notated) https://cds.nyu.edu/deep-learning/\n",
        "* 2020\n",
        "    * Youtube List: https://www.youtube.com/playlist?list=PLLHTzKZzVU9eaEyErdV26ikyolxOsz6mq\n",
        "    * Class Site: https://atcold.github.io/pytorch-Deep-Learning/\n",
        "    * Google Drive: https://bitly.com/DLSP20\n",
        "    * Github: https://github.com/Atcold/pytorch-Deep-Learning\n",
        "\n",
        "* 2021\n",
        "    * Youtube: https://www.youtube.com/playlist?list=PLLHTzKZzVU9e6xUfG10TkTWApKSZCzuBI\n",
        "    * Github: https://github.com/Atcold/NYU-DLSP21\n"
      ],
      "metadata": {
        "id": "ps0qz0RpH14E"
      }
    },
    {
      "cell_type": "markdown",
      "source": [
        "# 01 (see 2020 Notebook)"
      ],
      "metadata": {
        "id": "--w6balvHsSB"
      }
    },
    {
      "cell_type": "markdown",
      "source": [
        "* 01L: Back Propagation: https://www.youtube.com/watch?v=nTlCqaL7fCY&list=PLLHTzKZzVU9e6xUfG10TkTWApKSZCzuBI&index=2\n",
        "* Three Paradimes: https://youtu.be/nTlCqaL7fCY?list=PLLHTzKZzVU9e6xUfG10TkTWApKSZCzuBI&t=82\n",
        "    * Supervised Learning\n",
        "    * Reinforced Learning\n",
        "    * Unsupervised Learning\n",
        "    * DL has replaced hand-done learning\n",
        "* Parameterized Model (e.g. mutimentional array)\n",
        "    * e.g. Linear Regression: $$x + y$$\n",
        "    * e.g. Nearest Neighbor"
      ],
      "metadata": {
        "id": "KJlRQafTe3PO"
      }
    }
  ]
}